{
 "cells": [
  {
   "cell_type": "code",
   "execution_count": 1,
   "metadata": {},
   "outputs": [],
   "source": [
    "def getInput(day):\n",
    "   f = open(\"day\" + str(day) + \"_22\" + \".input\", \"r\")\n",
    "   return f.readlines()"
   ]
  },
  {
   "cell_type": "code",
   "execution_count": 2,
   "metadata": {},
   "outputs": [
    {
     "name": "stdout",
     "output_type": "stream",
     "text": [
      "72511\n",
      "214836\n"
     ]
    }
   ],
   "source": [
    "# day 1\n",
    "import numpy as np\n",
    "\n",
    "# Splits an array of strings (representing lines of an file in our case)\n",
    "# into an array of two arrays of strings, the first containing all strings/lines \n",
    "# before the first blank line ('\\n'), while the last contains those after the\n",
    "# blank line. The blank line itself is not part of any of these two.\n",
    "# If the input array of strings contains no blank line at all, this function \n",
    "# returns an array containing the inputs array of strings.  \n",
    "def splitOnFirstBlankLine(stringArray):\n",
    "    if '\\n' in stringArray:\n",
    "        return [stringArray[:stringArray.index('\\n')], stringArray[stringArray.index('\\n')+1:]]\n",
    "    else:\n",
    "        return [stringArray]\n",
    "\n",
    "# splits an arrays of strings (representing lines of an file in our case) \n",
    "# into an array of arrays of strings, each containing the strings between to\n",
    "# blank lines ('\\n')\n",
    "# For example the file\n",
    "# A\n",
    "# B\n",
    "#\n",
    "# C\n",
    "#\n",
    "# D\n",
    "# E\n",
    "# would be split up into [['A', 'B'], ['C'], ['D', 'E']]\n",
    "def splitOnBlankLines(stringArray, result=[]):\n",
    "    splits = splitOnFirstBlankLine(stringArray)\n",
    "    result.append(splits[0])\n",
    "    if len(splits) == 1:\n",
    "        return result\n",
    "    else: # len == 2\n",
    "        return splitOnBlankLines(splits[1], result)\n",
    "\n",
    "# Makes an array of arrays of Integers from an input array of arrays of strings.\n",
    "# Input array must not contain anything else than an array of arrays of strings,\n",
    "# otherwise an exception will be thrown\n",
    "# For example, [['2', '3'], ['5'], ['7', '11']] will be converted into\n",
    "# [[2, 3], [5], [7, 11]]\n",
    "def intify(arrayOfStringArrays):\n",
    "    arrayOfIntArrays = []\n",
    "    for stringArray in arrayOfStringArrays:\n",
    "        intArray = [int(string) for string in stringArray]\n",
    "        arrayOfIntArrays.append(intArray)\n",
    "    return arrayOfIntArrays\n",
    "\n",
    "def solveDay1(task):\n",
    "    # read input\n",
    "    inputLines = getInput(1)\n",
    "    \n",
    "    # split up\n",
    "    splittedIntoChunks = splitOnBlankLines(inputLines)\n",
    "    \n",
    "    # make integers\n",
    "    intChunks = intify(splittedIntoChunks)\n",
    "    \n",
    "    # make an array of sums of chunks\n",
    "    sums = [np.sum(split) for split in intChunks]\n",
    "    # and sort by size\n",
    "    sums.sort()\n",
    "    \n",
    "    if task == 1: \n",
    "        # the top elve\n",
    "        return sums[-1]\n",
    "    if task == 2:\n",
    "        # three top elves summed together\n",
    "        return np.sum(sums[-3:])\n",
    "    \n",
    "print(solveDay1(1)) \n",
    "print(solveDay1(2)) \n"
   ]
  },
  {
   "cell_type": "code",
   "execution_count": 3,
   "metadata": {},
   "outputs": [
    {
     "name": "stdout",
     "output_type": "stream",
     "text": [
      "15691\n",
      "12989\n"
     ]
    }
   ],
   "source": [
    "#day 2\n",
    "import numpy as np\n",
    "\n",
    "# the first half of scoresByShape is used by both tasks (intpretation of A, B, C):\n",
    "# A for Rock, B for Paper, and C for Scissors.\n",
    "# the second half of scoresByShape is only needed for the first task (wrong interpretation of X, Y, Z):\n",
    "# X for Rock, Y for Paper, and Z for Scissors.\n",
    "scoresByShape = {'A':1, 'B':2, 'C':3, 'X':1, 'Y':2, 'Z':3}\n",
    "\n",
    "# only for the second task (real interpretation of X, Y, Z)\n",
    "# X means you need to lose, Y means you need to end the round in a draw, and Z means you need to win.\n",
    "neededScores = {'X':0, 'Y':3, 'Z':6}\n",
    "\n",
    "def cantorPairing(x,y):\n",
    "    return (pow(x,2) + x + 2 * x * y + 3 * y + pow(y,2))/2\n",
    "\n",
    "# the points that we (with nyShape) receive against them (with theirShape)\n",
    "def outcomeScore(theirShape, myShape):\n",
    "    ts = scoresByShape[theirShape]\n",
    "    ms = scoresByShape[myShape.rstrip()]\n",
    "    # ugly ternary expression - can replaced with some math involving cantor and interpolation polynomial see below\n",
    "    # return 3 if ts == ms else (6 if (ms == 1 and ts == 3) else (0 if (ms == 3 and ts == 1) else (0 if ts > ms else 6)))\n",
    "    x = cantorPairing(ts, ms)\n",
    "    return int(round(331 * pow(x,8)/304944640 - 921467 * pow(x,7)/6861254400 + 16026271 * pow(x,6)/2287084800 - 63041351 * pow(x,5)/311875200 + 489434749 * pow(x,4)/138611200 - 261604767803 * pow(x,3)/6861254400 + 8799384401 * pow(x,2)/35735700 - 3137692909 * x/3665200 + 421473/350))\n",
    "\n",
    "# the points we score in a duell, represented by a string defined by \n",
    "# '<THEIR_SHAPE><SINGLE_SPACE><THEIR_SHAPE><OPTIONAL_NEWLINE>', \n",
    "# where every shape is one of  A, B, C, X, Y, Z. Examples: \n",
    "# - 'C Y'\n",
    "# - 'A Z\\n'\n",
    "# - 'B Z'\n",
    "# - 'A C'\n",
    "# - 'X Y\\n'\n",
    "#  or similar\n",
    "def score(duell):\n",
    "    shapes = duell.split(' ')\n",
    "    return outcomeScore(shapes[0], shapes[1]) + scoresByShape[shapes[1].rstrip()]\n",
    "\n",
    "# the duell given by a strategy, represented by a string defined by \n",
    "# '<THEIR_SHAPE><SINGLE_SPACE><STRATEGIC_OUTCOME><OPTIONAL_NEWLINE>',\n",
    "# where every shape is one of  A, B, C and \n",
    "# each strategic outcome one of X, Y, Z. Examples:\n",
    "# - 'A Y'\n",
    "# - 'A Z\\n'\n",
    "# - 'B Z'\n",
    "#  or similar\n",
    "def duellFor(strategy):\n",
    "    strategyParts = strategy.split(' ')\n",
    "    theirShape = strategyParts[0]\n",
    "    neededScore = neededScores[strategyParts[1].rstrip()]\n",
    "    for shape in ['A', 'B', 'C']:\n",
    "        if outcomeScore(theirShape, shape) == neededScore:\n",
    "            return theirShape + ' ' + shape\n",
    "    return 'oops' # should not come here\n",
    "\n",
    "def solveDay2(task):\n",
    "    # determine duells\n",
    "    if task == 1:\n",
    "         duells = getInput(2)\n",
    "    if task == 2:\n",
    "        strategies = getInput(2)\n",
    "        duells = [duellFor(strategy) for strategy in strategies]\n",
    "    \n",
    "    # calculate all scores\n",
    "    scores = [score(duell) for duell in duells]\n",
    "\n",
    "    # sum up scores and return\n",
    "    return np.sum(scores)\n",
    "    \n",
    "print(solveDay2(1))\n",
    "print(solveDay2(2))"
   ]
  },
  {
   "cell_type": "code",
   "execution_count": 4,
   "metadata": {},
   "outputs": [
    {
     "name": "stdout",
     "output_type": "stream",
     "text": [
      "8153\n",
      "2342\n"
     ]
    }
   ],
   "source": [
    "# day 3\n",
    "import numpy as np\n",
    "\n",
    "def priority(itemType):\n",
    "    corr =  96 if itemType.lower() == itemType else 38\n",
    "    return ord(itemType) - corr\n",
    "\n",
    "def inAllCollections(itemType, collections):\n",
    "    for collection in collections:\n",
    "        if not itemType in collection:\n",
    "            return False\n",
    "    return True\n",
    "\n",
    "def itemTypeInAllCollections(collections):\n",
    "    for itemType in collections[0]:\n",
    "        if inAllCollections(itemType, collections):\n",
    "            return itemType\n",
    "\n",
    "def itemTypeInBothCompartments(rucksack):\n",
    "    compartment1 = rucksack[:int(len(rucksack)/2)]\n",
    "    compartment2 = rucksack[int(len(rucksack)/2):]\n",
    "    return itemTypeInAllCollections([compartment1, compartment2])\n",
    "\n",
    "def solveDay3(task):\n",
    "    rucksacks = getInput(3)\n",
    "    if task == 1:\n",
    "        wrongItemTypes = [itemTypeInBothCompartments(rucksack) for rucksack in rucksacks]\n",
    "        wrongPriorities = [priority(itemType) for itemType in wrongItemTypes]\n",
    "        return np.sum(wrongPriorities)\n",
    "    if task == 2:\n",
    "        groups = np.array_split(rucksacks, int(len(rucksacks)/3))\n",
    "        groupItemTypes = [itemTypeInAllCollections(group) for group in groups]\n",
    "        groupPriorities = [priority(itemType) for itemType in groupItemTypes]\n",
    "        return np.sum (groupPriorities)\n",
    "    \n",
    "print(solveDay3(1))\n",
    "print(solveDay3(2))"
   ]
  },
  {
   "cell_type": "code",
   "execution_count": 5,
   "metadata": {},
   "outputs": [
    {
     "name": "stdout",
     "output_type": "stream",
     "text": [
      "599\n",
      "928\n"
     ]
    }
   ],
   "source": [
    "# day 4\n",
    "\n",
    "def oneIncludesOther(pair):\n",
    "    both = pair.split(',')\n",
    "    first = [int(x) for x in both[0].split('-')]\n",
    "    second= [int(x) for x in both[1].split('-')]\n",
    "    return first[0] <= second[0] and first[1] >= second[1] or first[0] >= second[0] and first[1] <= second[1]\n",
    "\n",
    "def overlaps(pair):\n",
    "    both = pair.split(',')\n",
    "    first = [int(x) for x in both[0].split('-')]\n",
    "    second= [int(x) for x in both[1].split('-')]\n",
    "    return first[1] >= second[0] and first[0] <= second[1] or first[0] <= second[1] and first[1] >= second[0]\n",
    "\n",
    "def solveDay4(task):\n",
    "    pairs = getInput(4)\n",
    "    if task == 1:\n",
    "        result = 0\n",
    "        for pair in pairs:\n",
    "            if oneIncludesOther(pair):\n",
    "                result += 1\n",
    "        return result\n",
    "    if task == 2:\n",
    "        result = 0\n",
    "        for pair in pairs:\n",
    "            if overlaps(pair):\n",
    "                result += 1\n",
    "        return result\n",
    "\n",
    "print(solveDay4(1))\n",
    "print(solveDay4(2))"
   ]
  },
  {
   "cell_type": "code",
   "execution_count": 6,
   "metadata": {},
   "outputs": [
    {
     "name": "stdout",
     "output_type": "stream",
     "text": [
      "TLNGFGMFN\n",
      "FGLQJCMBD\n"
     ]
    }
   ],
   "source": [
    "# day 5\n",
    "def stacksFrom(data):\n",
    "    rows = []\n",
    "    for line in data:\n",
    "        if '[' in line:\n",
    "            line = line.rstrip()\n",
    "            rows.append(line.split(' '))\n",
    "    #transpose\n",
    "    stacks = [[row[i] for row in rows] for i in range(len(rows[0]))]\n",
    "    #clean\n",
    "    for stack in stacks:\n",
    "        while '[0]'in stack:\n",
    "            stack.remove('[0]')\n",
    "    return stacks\n",
    "\n",
    "def movesFrom(data):\n",
    "    moves = []\n",
    "    for line in data:\n",
    "        if 'move' in line:\n",
    "            line = line.rstrip()\n",
    "            moves.append(list(map( lambda s: int(s), list(filter(lambda s: s.isdigit(), line.split(' '))))))\n",
    "    return moves\n",
    "\n",
    "def stacksAfterMove(stacks, move, task):\n",
    "    sourceIdx = move[1]-1\n",
    "    targetIdx = move[2]-1\n",
    "    if task == 1:\n",
    "        stacks[targetIdx] = stacks[sourceIdx][:move[0]][::-1] + stacks[targetIdx]\n",
    "    else:\n",
    "        stacks[targetIdx] = stacks[sourceIdx][:move[0]] + stacks[targetIdx]\n",
    "    stacks[sourceIdx] = stacks[sourceIdx][move[0]:]\n",
    "    return stacks\n",
    "\n",
    "def solveDay4(task):\n",
    "    data = getInput(5)\n",
    "    stacks = stacksFrom(data)\n",
    "    moves = movesFrom(data)\n",
    "    for move in moves:\n",
    "        stacks = stacksAfterMove(stacks, move, task)\n",
    "    message = ''\n",
    "    for stack in stacks:\n",
    "        message = message + stack[0][1]\n",
    "    return message\n",
    "\n",
    "print(solveDay4(1))\n",
    "print(solveDay4(2))"
   ]
  },
  {
   "cell_type": "code",
   "execution_count": 8,
   "metadata": {},
   "outputs": [
    {
     "name": "stdout",
     "output_type": "stream",
     "text": [
      "1658\n",
      "2260\n"
     ]
    }
   ],
   "source": [
    "# day 6\n",
    "\n",
    "def numberProcessedBeforeReachingDistinctOfLenghth(numberOfDistinct):\n",
    "    data = list(getInput(6)[0])\n",
    "    for i in range(len(data) - numberOfDistinct):\n",
    "        chunk = data[i:i+numberOfDistinct]\n",
    "        if len(set(chunk)) == numberOfDistinct:\n",
    "            return i + numberOfDistinct\n",
    "\n",
    "\n",
    "def solveDay6(task):\n",
    "    if task == 1:\n",
    "        return numberProcessedBeforeReachingDistinctOfLenghth(4)\n",
    "    if task == 2:\n",
    "        return numberProcessedBeforeReachingDistinctOfLenghth(14)\n",
    "\n",
    "print(solveDay6(1))\n",
    "print(solveDay6(2))"
   ]
  },
  {
   "cell_type": "code",
   "execution_count": 21,
   "metadata": {},
   "outputs": [
    {
     "name": "stdout",
     "output_type": "stream",
     "text": [
      "subsubdir11 16\n",
      "subdir1 28\n",
      "subdir2 11\n",
      "dir 39.0\n",
      "39.0\n"
     ]
    }
   ],
   "source": [
    "from collections import namedtuple\n",
    "import numpy as np\n",
    "\n",
    "File = namedtuple('File', ['name', 'size'])\n",
    "Dir = namedtuple('Dir', ['name', 'files', 'subdirs'])\n",
    "fileA = File('A', 5)\n",
    "fileB = File('B', 7)\n",
    "fileC = File('C', 11)\n",
    "fileD = File('D', 17)\n",
    "subsubdir11 =  Dir('subsubdir11',[fileC, fileA], [])\n",
    "subdir1 = Dir('subdir1',[fileA, fileB], [subsubdir11])\n",
    "subdir2 = Dir('subdir2',[fileC], [])\n",
    "dir = Dir('dir', [], [subdir1, subdir2])\n",
    "\n",
    "def sizeOf(dir):\n",
    "    size = np.sum([file.size for file in dir.files])\n",
    "    for subdir in dir.subdirs:\n",
    "        size = size + sizeOf(subdir)\n",
    "    return size\n",
    "\n",
    "def subdirWithName(dirs, name):\n",
    "    for dir in dirs:\n",
    "        for subdir in dir.subdirs:\n",
    "            if subdir.name == name:\n",
    "                return subdir\n",
    "    for dir in dirs:\n",
    "        return subdirWithName(dir.subdirs, name)\n",
    "\n",
    "print(sizeOf(dir))\n",
    "    "
   ]
  },
  {
   "cell_type": "code",
   "execution_count": 10,
   "metadata": {},
   "outputs": [
    {
     "name": "stdout",
     "output_type": "stream",
     "text": [
      "1\n",
      "2\n"
     ]
    }
   ],
   "source": [
    "# day 7\n",
    "\n",
    "def buildDirTree(harddisk):\n",
    "    for line in harddisk:\n",
    "        if line\n",
    "\n",
    "def solveDay7(task):\n",
    "    if task == 1:\n",
    "        harddisk = getInput(7)\n",
    "        return 1\n",
    "    if task == 2:\n",
    "        return 2\n",
    "\n",
    "print(solveDay7(1))\n",
    "print(solveDay7(2))"
   ]
  }
 ],
 "metadata": {
  "kernelspec": {
   "display_name": "Python 3.10.6 64-bit",
   "language": "python",
   "name": "python3"
  },
  "language_info": {
   "codemirror_mode": {
    "name": "ipython",
    "version": 3
   },
   "file_extension": ".py",
   "mimetype": "text/x-python",
   "name": "python",
   "nbconvert_exporter": "python",
   "pygments_lexer": "ipython3",
   "version": "3.10.6"
  },
  "orig_nbformat": 4,
  "vscode": {
   "interpreter": {
    "hash": "b0fa6594d8f4cbf19f97940f81e996739fb7646882a419484c72d19e05852a7e"
   }
  }
 },
 "nbformat": 4,
 "nbformat_minor": 2
}
